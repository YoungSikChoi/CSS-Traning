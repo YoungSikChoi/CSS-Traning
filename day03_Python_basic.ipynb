{
 "cells": [
  {
   "cell_type": "code",
   "execution_count": 9,
   "metadata": {
    "collapsed": true
   },
   "outputs": [],
   "source": [
    "def do_sum(a,b):\n",
    "    return a+b"
   ]
  },
  {
   "cell_type": "code",
   "execution_count": 11,
   "metadata": {
    "scrolled": true
   },
   "outputs": [
    {
     "data": {
      "text/plain": [
       "8"
      ]
     },
     "execution_count": 11,
     "metadata": {},
     "output_type": "execute_result"
    }
   ],
   "source": [
    "do_sum(4,4)"
   ]
  },
  {
   "cell_type": "code",
   "execution_count": 6,
   "metadata": {
    "collapsed": true
   },
   "outputs": [],
   "source": [
    "def multiply(a,b):\n",
    "    return a*b"
   ]
  },
  {
   "cell_type": "code",
   "execution_count": 12,
   "metadata": {},
   "outputs": [
    {
     "data": {
      "text/plain": [
       "28"
      ]
     },
     "execution_count": 12,
     "metadata": {},
     "output_type": "execute_result"
    }
   ],
   "source": [
    "multiply(4,7)"
   ]
  },
  {
   "cell_type": "code",
   "execution_count": 16,
   "metadata": {
    "collapsed": true
   },
   "outputs": [],
   "source": [
    "def print_hello():\n",
    "    return \"Hello! Python\""
   ]
  },
  {
   "cell_type": "code",
   "execution_count": 17,
   "metadata": {},
   "outputs": [
    {
     "data": {
      "text/plain": [
       "'Hello! Python'"
      ]
     },
     "execution_count": 17,
     "metadata": {},
     "output_type": "execute_result"
    }
   ],
   "source": [
    "print_hello()"
   ]
  },
  {
   "cell_type": "code",
   "execution_count": 19,
   "metadata": {
    "collapsed": true
   },
   "outputs": [],
   "source": [
    "def print_hello_2():\n",
    "    hello = \"Hello python agian!\"\n",
    "    return hello"
   ]
  },
  {
   "cell_type": "code",
   "execution_count": 22,
   "metadata": {},
   "outputs": [
    {
     "data": {
      "text/plain": [
       "'Hello python agian!'"
      ]
     },
     "execution_count": 22,
     "metadata": {},
     "output_type": "execute_result"
    }
   ],
   "source": [
    "print_hello_2()"
   ]
  },
  {
   "cell_type": "code",
   "execution_count": 23,
   "metadata": {
    "collapsed": true
   },
   "outputs": [],
   "source": [
    "def func_wo_return(a):\n",
    "    print(\"This is function {} return!!\".format(a))"
   ]
  },
  {
   "cell_type": "code",
   "execution_count": 26,
   "metadata": {},
   "outputs": [
    {
     "name": "stdout",
     "output_type": "stream",
     "text": [
      "This is function for return!!\n"
     ]
    }
   ],
   "source": [
    "func_wo_return(\"for\")"
   ]
  },
  {
   "cell_type": "code",
   "execution_count": 29,
   "metadata": {},
   "outputs": [
    {
     "data": {
      "text/plain": [
       "'Hello! Python'"
      ]
     },
     "execution_count": 29,
     "metadata": {},
     "output_type": "execute_result"
    }
   ],
   "source": [
    "some_string = print_hello()\n",
    "some_string"
   ]
  },
  {
   "cell_type": "code",
   "execution_count": 32,
   "metadata": {},
   "outputs": [
    {
     "name": "stdout",
     "output_type": "stream",
     "text": [
      "This is function without return!!\n"
     ]
    }
   ],
   "source": [
    "another_string = func_wo_return(\"without\")"
   ]
  },
  {
   "cell_type": "code",
   "execution_count": 34,
   "metadata": {
    "collapsed": true
   },
   "outputs": [],
   "source": [
    "another_string"
   ]
  },
  {
   "cell_type": "code",
   "execution_count": 37,
   "metadata": {
    "collapsed": true
   },
   "outputs": [],
   "source": [
    "some_list = [2,4,1]\n",
    "sorted_list = some_list.sort()"
   ]
  },
  {
   "cell_type": "code",
   "execution_count": 40,
   "metadata": {},
   "outputs": [
    {
     "data": {
      "text/plain": [
       "[1, 2, 4]"
      ]
     },
     "execution_count": 40,
     "metadata": {},
     "output_type": "execute_result"
    }
   ],
   "source": [
    "some_list"
   ]
  },
  {
   "cell_type": "code",
   "execution_count": 42,
   "metadata": {
    "collapsed": true
   },
   "outputs": [],
   "source": [
    "def multiple_return(a):\n",
    "    b = a + 1024\n",
    "    return a, b"
   ]
  },
  {
   "cell_type": "code",
   "execution_count": 47,
   "metadata": {},
   "outputs": [
    {
     "data": {
      "text/plain": [
       "1146"
      ]
     },
     "execution_count": 47,
     "metadata": {},
     "output_type": "execute_result"
    }
   ],
   "source": [
    "multiple_return(122)[1]"
   ]
  },
  {
   "cell_type": "code",
   "execution_count": 53,
   "metadata": {},
   "outputs": [
    {
     "name": "stdout",
     "output_type": "stream",
     "text": [
      "Enter username?young-sik\n",
      "valid username: young-sik\n",
      "anything else?\n"
     ]
    }
   ],
   "source": [
    "\n",
    "def id_check(username):\n",
    "    if username == \"admin\":\n",
    "        return print(\"invalid username: {}\".format(username))\n",
    "    else:\n",
    "        print(\"valid username: {}\".format(username))\n",
    "    \n",
    "    print(\"anything else?\")\n",
    "    \n",
    "username = input(\"Enter username?\")\n",
    "\n",
    "id_check(username)"
   ]
  },
  {
   "cell_type": "code",
   "execution_count": 69,
   "metadata": {},
   "outputs": [
    {
     "data": {
      "text/plain": [
       "(3, 12)"
      ]
     },
     "execution_count": 69,
     "metadata": {},
     "output_type": "execute_result"
    }
   ],
   "source": [
    "def mul_sum(a, b, *args):\n",
    "    sum_ = 1\n",
    "    for i in args:\n",
    "        sum_ *= i\n",
    "    return a+b, sum_\n",
    "\n",
    "mul_sum(1,2,3,4)"
   ]
  },
  {
   "cell_type": "code",
   "execution_count": 78,
   "metadata": {},
   "outputs": [
    {
     "name": "stdout",
     "output_type": "stream",
     "text": [
      "dict_keys(['a', 'b'])\n"
     ]
    }
   ],
   "source": [
    "def show_kwargs(**kwargs):\n",
    "    print(str(kwargs.keys()))\n",
    "    \n",
    "show_kwargs(a = 19, b = True)"
   ]
  },
  {
   "cell_type": "code",
   "execution_count": 103,
   "metadata": {},
   "outputs": [
    {
     "data": {
      "text/plain": [
       "'https://search.naver.com/search.naver?where=nexearch&sm=top_hty&fbm=1&ie=utf8&query=성수역'"
      ]
     },
     "execution_count": 103,
     "metadata": {},
     "output_type": "execute_result"
    }
   ],
   "source": [
    "def kwargs_url(server, **query):\n",
    "    url = \"https://\" + server + \"/search.naver?\"\n",
    "    \n",
    "    for key in query.keys():\n",
    "        url = url + key + \"=\" + query[key] + \"&\"\n",
    "    \n",
    "    return url[:-1]\n",
    "\n",
    "kwargs_url(\"search.naver.com\",where = \"nexearch\", sm = \"top_hty\", fbm = \"1\", ie = \"utf8\", query = \"성수역\")"
   ]
  },
  {
   "cell_type": "code",
   "execution_count": 111,
   "metadata": {},
   "outputs": [
    {
     "name": "stdout",
     "output_type": "stream",
     "text": [
      "hello world\n"
     ]
    }
   ],
   "source": [
    "a = \"hello\"\n",
    "\n",
    "def complete_hello(x):\n",
    "    x += \" world\"\n",
    "    return x\n",
    "\n",
    "a = complete_hello(a)\n",
    "print(a)"
   ]
  },
  {
   "cell_type": "code",
   "execution_count": 118,
   "metadata": {},
   "outputs": [
    {
     "name": "stdout",
     "output_type": "stream",
     "text": [
      "hello\n",
      "hello python\n"
     ]
    }
   ],
   "source": [
    "a = \"hello\"\n",
    "print(a)\n",
    "\n",
    "def awful_glob():\n",
    "    global a\n",
    "    a += \" python\"\n",
    "    \n",
    "awful_glob()\n",
    "print(a)"
   ]
  },
  {
   "cell_type": "code",
   "execution_count": 50,
   "metadata": {},
   "outputs": [
    {
     "name": "stdout",
     "output_type": "stream",
     "text": [
      "Type the year: 2000\n",
      "<class 'int'>\n"
     ]
    },
    {
     "data": {
      "text/plain": [
       "'윤년입니다.'"
      ]
     },
     "execution_count": 50,
     "metadata": {},
     "output_type": "execute_result"
    }
   ],
   "source": [
    "# 4의 배수 -> 윤년\n",
    "# 100의 배수 -> 평년\n",
    "# 400의 배수 -> 윤년\n",
    "\n",
    "def is_leap(year):\n",
    "    \n",
    "#    M = \"\"  \n",
    "#    M += ((year % 400 == 0) or (year % 4 == 0) and (year % 100 != 0)) * \"윤\" + \"평\" \n",
    "#    return \"{}년입니다\".format(M[0])\n",
    "\n",
    "    if (year % 400 == 0) or (year % 4 == 0) and (year % 100 != 0):\n",
    "        return \"윤년입니다.\"\n",
    "    else:\n",
    "        return \"평년입니다\"\n",
    "\n",
    "year = int(input(\"Type the year: \"))\n",
    "print(type(year))\n",
    "\n",
    "is_leap(year)"
   ]
  },
  {
   "cell_type": "code",
   "execution_count": 30,
   "metadata": {},
   "outputs": [
    {
     "data": {
      "text/plain": [
       "'평년입니다'"
      ]
     },
     "execution_count": 30,
     "metadata": {},
     "output_type": "execute_result"
    }
   ],
   "source": [
    "is_leap(2010)"
   ]
  },
  {
   "cell_type": "code",
   "execution_count": 34,
   "metadata": {
    "collapsed": true
   },
   "outputs": [],
   "source": [
    "def guesser(answer):\n",
    "    guess = 0 \n",
    "    trial = 0\n",
    "    while 1:\n",
    "        guess = int(input(\"Guess Your Number! >>\"))\n",
    "        trial += 1\n",
    "        if guess != answer:\n",
    "            print(\"Worng! Try Again!!!, You have only {} chances\".format(3-trial))\n",
    "            if trial >= 3:\n",
    "                print(\"Game Over\")\n",
    "                break\n",
    "            elif guess > answer:\n",
    "                print(\"Your number is bigger than answer\")\n",
    "            else:\n",
    "                print(\"Your number is smaller than answer\")\n",
    "        else:           \n",
    "            print(\"Correct!!\")\n",
    "            break"
   ]
  },
  {
   "cell_type": "code",
   "execution_count": 37,
   "metadata": {},
   "outputs": [
    {
     "name": "stdout",
     "output_type": "stream",
     "text": [
      "95\n",
      "Guess Your Number! >>1\n",
      "Worng! Try Again!!!, You have only 2 chances\n",
      "Your number is smaller than answer\n",
      "Guess Your Number! >>1\n",
      "Worng! Try Again!!!, You have only 1 chances\n",
      "Your number is smaller than answer\n",
      "Guess Your Number! >>1\n",
      "Worng! Try Again!!!, You have only 0 chances\n",
      "Game Over\n"
     ]
    }
   ],
   "source": [
    "import random\n",
    "\n",
    "answer = random.randint(1, 100)\n",
    "\n",
    "print(answer)\n",
    "\n",
    "guesser(answer)"
   ]
  },
  {
   "cell_type": "code",
   "execution_count": 45,
   "metadata": {},
   "outputs": [
    {
     "name": "stdout",
     "output_type": "stream",
     "text": [
      "hello world\n",
      "hello world\n",
      "hello world\n",
      "hello world\n",
      "hello world\n",
      "hello world\n"
     ]
    }
   ],
   "source": [
    "def print_hello(n):\n",
    "    if n == 0:\n",
    "        return\n",
    "    print(\"hello world\")\n",
    "    return print_hello(n-1)\n",
    "\n",
    "print_hello(6)"
   ]
  },
  {
   "cell_type": "code",
   "execution_count": 55,
   "metadata": {
    "collapsed": true
   },
   "outputs": [],
   "source": [
    "def recurse_beast(trial):\n",
    "    if trial == 0:\n",
    "        return \"curse complete!\"\n",
    "    else:\n",
    "        print(\"Fusion! ({} times left)\".format(trial - 1))\n",
    "        return recurse_beast(trial - 1)"
   ]
  },
  {
   "cell_type": "code",
   "execution_count": 57,
   "metadata": {},
   "outputs": [
    {
     "name": "stdout",
     "output_type": "stream",
     "text": [
      "How many times want to curse the beast?ㅁ\n"
     ]
    },
    {
     "ename": "ValueError",
     "evalue": "invalid literal for int() with base 10: 'ㅁ'",
     "output_type": "error",
     "traceback": [
      "\u001b[1;31m---------------------------------------------------------------------------\u001b[0m",
      "\u001b[1;31mValueError\u001b[0m                                Traceback (most recent call last)",
      "\u001b[1;32m<ipython-input-57-0ca8c59e5931>\u001b[0m in \u001b[0;36m<module>\u001b[1;34m()\u001b[0m\n\u001b[1;32m----> 1\u001b[1;33m \u001b[0mtrial\u001b[0m \u001b[1;33m=\u001b[0m \u001b[0mint\u001b[0m\u001b[1;33m(\u001b[0m\u001b[0minput\u001b[0m\u001b[1;33m(\u001b[0m\u001b[1;34m\"How many times want to curse the beast?\"\u001b[0m\u001b[1;33m)\u001b[0m\u001b[1;33m)\u001b[0m\u001b[1;33m\u001b[0m\u001b[0m\n\u001b[0m\u001b[0;32m      2\u001b[0m \u001b[1;33m\u001b[0m\u001b[0m\n\u001b[0;32m      3\u001b[0m \u001b[0mrecurse_beast\u001b[0m\u001b[1;33m(\u001b[0m\u001b[0mtrial\u001b[0m\u001b[1;33m)\u001b[0m\u001b[1;33m\u001b[0m\u001b[0m\n",
      "\u001b[1;31mValueError\u001b[0m: invalid literal for int() with base 10: 'ㅁ'"
     ]
    }
   ],
   "source": [
    "trial = int(input(\"How many times want to curse the beast?\"))\n",
    "\n",
    "recurse_beast(trial)\n"
   ]
  },
  {
   "cell_type": "code",
   "execution_count": 63,
   "metadata": {},
   "outputs": [
    {
     "data": {
      "text/plain": [
       "[2, 4, 6, 8, 10]"
      ]
     },
     "execution_count": 63,
     "metadata": {},
     "output_type": "execute_result"
    }
   ],
   "source": [
    "# List Comprehension\n",
    "old_list = [1,2,3,4,5]\n",
    "doubled_list = [i * 2 for i in old_list]\n",
    "doubled_list"
   ]
  },
  {
   "cell_type": "code",
   "execution_count": 71,
   "metadata": {},
   "outputs": [
    {
     "data": {
      "text/plain": [
       "[4, 8]"
      ]
     },
     "execution_count": 71,
     "metadata": {},
     "output_type": "execute_result"
    }
   ],
   "source": [
    "# List Comprehension - another example\n",
    "doubled_list = [i * 2 for i in old_list if i % 2 == 0]\n",
    "doubled_list"
   ]
  },
  {
   "cell_type": "code",
   "execution_count": 77,
   "metadata": {},
   "outputs": [
    {
     "data": {
      "text/plain": [
       "['elppA', 'egnarO', 'elppaeniP']"
      ]
     },
     "execution_count": 77,
     "metadata": {},
     "output_type": "execute_result"
    }
   ],
   "source": [
    "Fruit = [\"Apple\", \"Orange\", \"Pineapple\", \"Mango\"]\n",
    "\n",
    "Reverse_ = [i[::-1] for i in Fruit if i[-1] == \"e\"]\n",
    "Reverse_"
   ]
  },
  {
   "cell_type": "code",
   "execution_count": 81,
   "metadata": {
    "collapsed": true
   },
   "outputs": [],
   "source": [
    "f = open(\"newfile.txt\", 'w') # 'w'모드로 접근하면 새로운 파일이 생성됨\n",
    "\n",
    "\n",
    "\n",
    "f.close()"
   ]
  },
  {
   "cell_type": "code",
   "execution_count": 84,
   "metadata": {
    "collapsed": true
   },
   "outputs": [],
   "source": [
    "f = open(\"newfile.txt\", 'a')\n",
    "\n",
    "for i in range(1, 10 + 1):\n",
    "    \n",
    "    text = \"new_line no.{}\\n\".format(i)\n",
    "    \n",
    "    f.write(text)\n",
    "    \n",
    "f.close()"
   ]
  },
  {
   "cell_type": "code",
   "execution_count": 86,
   "metadata": {
    "collapsed": true
   },
   "outputs": [],
   "source": [
    "f = open(\"newfile.txt\", 'a')\n",
    "\n",
    "for i in range(21, 30 + 1):\n",
    "    \n",
    "    text = \"Brande new_line no.{}\\n\".format(i)\n",
    "    \n",
    "    f.write(text)\n",
    "    \n",
    "f.close()"
   ]
  },
  {
   "cell_type": "code",
   "execution_count": 109,
   "metadata": {},
   "outputs": [
    {
     "name": "stdout",
     "output_type": "stream",
     "text": [
      "new_line no.1\n",
      "\n",
      "new_line no.2\n",
      "\n",
      "new_line no.3\n",
      "\n",
      "new_line no.4\n",
      "\n",
      "new_line no.5\n",
      "\n",
      "new_line no.6\n",
      "\n",
      "new_line no.7\n",
      "\n",
      "new_line no.8\n",
      "\n",
      "new_line no.9\n",
      "\n",
      "new_line no.10\n",
      "\n",
      "Brande new_line no.21\n",
      "\n",
      "Brande new_line no.22\n",
      "\n",
      "Brande new_line no.23\n",
      "\n",
      "Brande new_line no.24\n",
      "\n",
      "Brande new_line no.25\n",
      "\n",
      "Brande new_line no.26\n",
      "\n",
      "Brande new_line no.27\n",
      "\n",
      "Brande new_line no.28\n",
      "\n",
      "Brande new_line no.29\n",
      "\n",
      "Brande new_line no.30\n",
      "\n"
     ]
    }
   ],
   "source": [
    "f = open(\"newfile.txt\", 'r')\n",
    "\n",
    "while True:\n",
    "    text = f.readline()\n",
    "    if not text:\n",
    "        break\n",
    "    print(text)\n",
    "\n",
    "f.close()"
   ]
  },
  {
   "cell_type": "code",
   "execution_count": 111,
   "metadata": {},
   "outputs": [
    {
     "name": "stdout",
     "output_type": "stream",
     "text": [
      "new_line no.1\n",
      "\n",
      "new_line no.2\n",
      "\n",
      "new_line no.3\n",
      "\n",
      "new_line no.4\n",
      "\n",
      "new_line no.5\n",
      "\n",
      "new_line no.6\n",
      "\n",
      "new_line no.7\n",
      "\n",
      "new_line no.8\n",
      "\n",
      "new_line no.9\n",
      "\n",
      "new_line no.10\n",
      "\n",
      "Brande new_line no.21\n",
      "\n",
      "Brande new_line no.22\n",
      "\n",
      "Brande new_line no.23\n",
      "\n",
      "Brande new_line no.24\n",
      "\n",
      "Brande new_line no.25\n",
      "\n",
      "Brande new_line no.26\n",
      "\n",
      "Brande new_line no.27\n",
      "\n",
      "Brande new_line no.28\n",
      "\n",
      "Brande new_line no.29\n",
      "\n",
      "Brande new_line no.30\n",
      "\n",
      "new_line no.1\n",
      "\n",
      "new_line no.2\n",
      "\n",
      "new_line no.3\n",
      "\n",
      "new_line no.4\n",
      "\n",
      "new_line no.5\n",
      "\n",
      "new_line no.6\n",
      "\n",
      "new_line no.7\n",
      "\n",
      "new_line no.8\n",
      "\n",
      "new_line no.9\n",
      "\n",
      "new_line no.10\n",
      "\n",
      "Brande new_line no.21\n",
      "\n",
      "Brande new_line no.22\n",
      "\n",
      "Brande new_line no.23\n",
      "\n",
      "Brande new_line no.24\n",
      "\n",
      "Brande new_line no.25\n",
      "\n",
      "Brande new_line no.26\n",
      "\n",
      "Brande new_line no.27\n",
      "\n",
      "Brande new_line no.28\n",
      "\n",
      "Brande new_line no.29\n",
      "\n",
      "Brande new_line no.30\n",
      "\n"
     ]
    }
   ],
   "source": [
    "f = open(\"newfile.txt\", 'r')\n",
    "\n",
    "for text in f.readlines():\n",
    "    print(text)\n",
    "\n",
    "f.close()\n",
    "\n",
    "with open('newfile.txt','r') as f:\n",
    "    for text in f.readlines():\n",
    "        print(text)"
   ]
  },
  {
   "cell_type": "code",
   "execution_count": 117,
   "metadata": {},
   "outputs": [
    {
     "name": "stdout",
     "output_type": "stream",
     "text": [
      "new_line no.1\n",
      "\n"
     ]
    }
   ],
   "source": [
    "try:\n",
    "    f = open(\"newfile.txt\", 'r')\n",
    "except FileNotFoundError as e:\n",
    "    print(e)\n",
    "else:\n",
    "    print(f.readline())\n",
    "    f.close()"
   ]
  },
  {
   "cell_type": "code",
   "execution_count": 14,
   "metadata": {},
   "outputs": [],
   "source": [
    "def Ethiopian_Multiple(f,s):\n",
    "    f_n, s_n, k = f, s, 0\n",
    "    \n",
    "    while(f_n > 1):             \n",
    "        if f_n % 2 == 0:\n",
    "            print(\"{} {} struck ---\".format(f_n, s_n))\n",
    "        else:\n",
    "            print(\"{} {} keep {}\".format(f_n, s_n, s_n))\n",
    "            \n",
    "            \n",
    "        f_n = f_n // 2\n",
    "        s_n = s_n * 2\n",
    "         \n",
    "    return"
   ]
  },
  {
   "cell_type": "code",
   "execution_count": 15,
   "metadata": {
    "scrolled": true
   },
   "outputs": [
    {
     "name": "stdout",
     "output_type": "stream",
     "text": [
      "12 7 struck ---\n",
      "6 14 struck ---\n",
      "3 28 keep 28\n"
     ]
    }
   ],
   "source": [
    "Ethiopian_Multiple(12,7)"
   ]
  }
 ],
 "metadata": {
  "kernelspec": {
   "display_name": "Python 3",
   "language": "python",
   "name": "python3"
  },
  "language_info": {
   "codemirror_mode": {
    "name": "ipython",
    "version": 3
   },
   "file_extension": ".py",
   "mimetype": "text/x-python",
   "name": "python",
   "nbconvert_exporter": "python",
   "pygments_lexer": "ipython3",
   "version": "3.6.3"
  }
 },
 "nbformat": 4,
 "nbformat_minor": 2
}
